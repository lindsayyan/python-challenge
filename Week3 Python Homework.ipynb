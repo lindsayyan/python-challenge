{
 "cells": [
  {
   "cell_type": "markdown",
   "metadata": {},
   "source": [
    "## Option 1 PyBank\n",
    "### Loading Data in "
   ]
  },
  {
   "cell_type": "code",
   "execution_count": 302,
   "metadata": {
    "collapsed": true
   },
   "outputs": [],
   "source": [
    "import pandas as pd\n",
    "budget_data_1=pd.read_csv('budget_data_1.csv',sep=',')\n",
    "budget_data_2=pd.read_csv('budget_data_2.csv',sep=',')\n"
   ]
  },
  {
   "cell_type": "code",
   "execution_count": 303,
   "metadata": {},
   "outputs": [
    {
     "data": {
      "text/html": [
       "<div>\n",
       "<style>\n",
       "    .dataframe thead tr:only-child th {\n",
       "        text-align: right;\n",
       "    }\n",
       "\n",
       "    .dataframe thead th {\n",
       "        text-align: left;\n",
       "    }\n",
       "\n",
       "    .dataframe tbody tr th {\n",
       "        vertical-align: top;\n",
       "    }\n",
       "</style>\n",
       "<table border=\"1\" class=\"dataframe\">\n",
       "  <thead>\n",
       "    <tr style=\"text-align: right;\">\n",
       "      <th></th>\n",
       "      <th>Date</th>\n",
       "      <th>Revenue</th>\n",
       "    </tr>\n",
       "  </thead>\n",
       "  <tbody>\n",
       "    <tr>\n",
       "      <th>0</th>\n",
       "      <td>Oct-12</td>\n",
       "      <td>1154293</td>\n",
       "    </tr>\n",
       "    <tr>\n",
       "      <th>1</th>\n",
       "      <td>Nov-12</td>\n",
       "      <td>885773</td>\n",
       "    </tr>\n",
       "    <tr>\n",
       "      <th>2</th>\n",
       "      <td>Dec-12</td>\n",
       "      <td>-448704</td>\n",
       "    </tr>\n",
       "    <tr>\n",
       "      <th>3</th>\n",
       "      <td>Jan-13</td>\n",
       "      <td>563679</td>\n",
       "    </tr>\n",
       "    <tr>\n",
       "      <th>4</th>\n",
       "      <td>Feb-13</td>\n",
       "      <td>555394</td>\n",
       "    </tr>\n",
       "  </tbody>\n",
       "</table>\n",
       "</div>"
      ],
      "text/plain": [
       "     Date  Revenue\n",
       "0  Oct-12  1154293\n",
       "1  Nov-12   885773\n",
       "2  Dec-12  -448704\n",
       "3  Jan-13   563679\n",
       "4  Feb-13   555394"
      ]
     },
     "execution_count": 303,
     "metadata": {},
     "output_type": "execute_result"
    }
   ],
   "source": [
    "budget_data= pd.concat([budget_data_1,budget_data_2])\n",
    "budget_data.head()"
   ]
  },
  {
   "cell_type": "markdown",
   "metadata": {},
   "source": [
    "### Changing Data Format to make them all uniform"
   ]
  },
  {
   "cell_type": "code",
   "execution_count": 305,
   "metadata": {},
   "outputs": [
    {
     "data": {
      "text/html": [
       "<div>\n",
       "<style>\n",
       "    .dataframe thead tr:only-child th {\n",
       "        text-align: right;\n",
       "    }\n",
       "\n",
       "    .dataframe thead th {\n",
       "        text-align: left;\n",
       "    }\n",
       "\n",
       "    .dataframe tbody tr th {\n",
       "        vertical-align: top;\n",
       "    }\n",
       "</style>\n",
       "<table border=\"1\" class=\"dataframe\">\n",
       "  <thead>\n",
       "    <tr style=\"text-align: right;\">\n",
       "      <th></th>\n",
       "      <th>Date</th>\n",
       "      <th>Revenue</th>\n",
       "    </tr>\n",
       "  </thead>\n",
       "  <tbody>\n",
       "    <tr>\n",
       "      <th>0</th>\n",
       "      <td>Apr-09</td>\n",
       "      <td>-735286</td>\n",
       "    </tr>\n",
       "    <tr>\n",
       "      <th>1</th>\n",
       "      <td>Apr-10</td>\n",
       "      <td>120968</td>\n",
       "    </tr>\n",
       "    <tr>\n",
       "      <th>2</th>\n",
       "      <td>Apr-11</td>\n",
       "      <td>110092</td>\n",
       "    </tr>\n",
       "    <tr>\n",
       "      <th>3</th>\n",
       "      <td>Apr-12</td>\n",
       "      <td>594289</td>\n",
       "    </tr>\n",
       "    <tr>\n",
       "      <th>4</th>\n",
       "      <td>Apr-13</td>\n",
       "      <td>1482637</td>\n",
       "    </tr>\n",
       "  </tbody>\n",
       "</table>\n",
       "</div>"
      ],
      "text/plain": [
       "     Date  Revenue\n",
       "0  Apr-09  -735286\n",
       "1  Apr-10   120968\n",
       "2  Apr-11   110092\n",
       "3  Apr-12   594289\n",
       "4  Apr-13  1482637"
      ]
     },
     "execution_count": 305,
     "metadata": {},
     "output_type": "execute_result"
    }
   ],
   "source": [
    "Data=budget_data['Date'].replace({'-20':'-'}, regex=True)\n",
    "Data_org=pd.concat([Data,budget_data['Revenue']], axis=1)\n",
    "Data_org2=Data_org.groupby(['Date']).agg('sum')\n",
    "Data_org2=Data_org2.reset_index()\n",
    "Data_org2.head()"
   ]
  },
  {
   "cell_type": "markdown",
   "metadata": {},
   "source": [
    "### Converting string Date to Number Date"
   ]
  },
  {
   "cell_type": "code",
   "execution_count": 306,
   "metadata": {},
   "outputs": [],
   "source": [
    "list_a=[]\n",
    "for x in Data_org2['Date']:\n",
    "  \n",
    "    if 'Jan' in x:\n",
    "        a='01'\n",
    "        list_a.append('20'+ x[-2:] +a )\n",
    "    elif 'Feb' in x:\n",
    "        a='02'\n",
    "        list_a.append('20'+ x[-2:] +a )\n",
    "    elif 'Mar' in x:\n",
    "        a='03'\n",
    "        list_a.append('20'+ x[-2:] +a )\n",
    "    elif 'Apr' in x:\n",
    "        a='04'\n",
    "        list_a.append('20'+ x[-2:] +a )\n",
    "    elif 'May' in x:\n",
    "        a='05'\n",
    "        list_a.append('20'+ x[-2:] +a )\n",
    "    elif 'Jun' in x:\n",
    "        a='06'\n",
    "        list_a.append('20'+ x[-2:] +a )\n",
    "    elif 'Jul' in x:\n",
    "        a='07'\n",
    "        list_a.append('20'+ x[-2:] +a )\n",
    "    elif 'Aug' in x:\n",
    "        a='08'\n",
    "        list_a.append('20'+ x[-2:] +a )\n",
    "    elif 'Sep' in x:\n",
    "        a='09'\n",
    "        list_a.append('20'+ x[-2:] +a )\n",
    "    elif 'Oct' in x:\n",
    "        a='10'\n",
    "        list_a.append('20'+ x[-2:] +a )\n",
    "    elif 'Nov' in x:\n",
    "        a='11'\n",
    "        list_a.append('20'+ x[-2:] +a )\n",
    "    elif 'Dec' in x:\n",
    "        a='12'\n",
    "        list_a.append('20'+ x[-2:] +a )"
   ]
  },
  {
   "cell_type": "code",
   "execution_count": 307,
   "metadata": {},
   "outputs": [],
   "source": [
    "list_a2=pd.DataFrame(list_a)"
   ]
  },
  {
   "cell_type": "code",
   "execution_count": 308,
   "metadata": {},
   "outputs": [],
   "source": [
    "Data_org2=pd.concat([Data_org2,list_a2], axis=1)\n",
    "Data_org2=Data_org2.rename(columns={0:\"Date2\"})"
   ]
  },
  {
   "cell_type": "code",
   "execution_count": 309,
   "metadata": {},
   "outputs": [],
   "source": [
    "Data_org2=Data_org2.sort_values(['Date2'])"
   ]
  },
  {
   "cell_type": "code",
   "execution_count": 310,
   "metadata": {},
   "outputs": [
    {
     "data": {
      "text/html": [
       "<div>\n",
       "<style>\n",
       "    .dataframe thead tr:only-child th {\n",
       "        text-align: right;\n",
       "    }\n",
       "\n",
       "    .dataframe thead th {\n",
       "        text-align: left;\n",
       "    }\n",
       "\n",
       "    .dataframe tbody tr th {\n",
       "        vertical-align: top;\n",
       "    }\n",
       "</style>\n",
       "<table border=\"1\" class=\"dataframe\">\n",
       "  <thead>\n",
       "    <tr style=\"text-align: right;\">\n",
       "      <th></th>\n",
       "      <th>Date</th>\n",
       "      <th>Revenue</th>\n",
       "      <th>Date2</th>\n",
       "    </tr>\n",
       "  </thead>\n",
       "  <tbody>\n",
       "    <tr>\n",
       "      <th>0</th>\n",
       "      <td>Jan-09</td>\n",
       "      <td>943690</td>\n",
       "      <td>200901</td>\n",
       "    </tr>\n",
       "    <tr>\n",
       "      <th>1</th>\n",
       "      <td>Feb-09</td>\n",
       "      <td>1062565</td>\n",
       "      <td>200902</td>\n",
       "    </tr>\n",
       "    <tr>\n",
       "      <th>2</th>\n",
       "      <td>Mar-09</td>\n",
       "      <td>210079</td>\n",
       "      <td>200903</td>\n",
       "    </tr>\n",
       "    <tr>\n",
       "      <th>3</th>\n",
       "      <td>Apr-09</td>\n",
       "      <td>-735286</td>\n",
       "      <td>200904</td>\n",
       "    </tr>\n",
       "    <tr>\n",
       "      <th>4</th>\n",
       "      <td>May-09</td>\n",
       "      <td>842933</td>\n",
       "      <td>200905</td>\n",
       "    </tr>\n",
       "  </tbody>\n",
       "</table>\n",
       "</div>"
      ],
      "text/plain": [
       "     Date  Revenue   Date2\n",
       "0  Jan-09   943690  200901\n",
       "1  Feb-09  1062565  200902\n",
       "2  Mar-09   210079  200903\n",
       "3  Apr-09  -735286  200904\n",
       "4  May-09   842933  200905"
      ]
     },
     "execution_count": 310,
     "metadata": {},
     "output_type": "execute_result"
    }
   ],
   "source": [
    "Data_org2=Data_org2.reset_index()\n",
    "del Data_org2['index']\n",
    "#Data_org2_copy=Data_org2[:]\n",
    "Data_org2.head()"
   ]
  },
  {
   "cell_type": "code",
   "execution_count": 311,
   "metadata": {},
   "outputs": [],
   "source": [
    "d={\"diff\":range(len(Data_org2))}\n",
    "d['diff'] = Data_org2['Revenue'] - Data_org2['Revenue'].shift(1)"
   ]
  },
  {
   "cell_type": "code",
   "execution_count": 313,
   "metadata": {},
   "outputs": [
    {
     "data": {
      "text/html": [
       "<div>\n",
       "<style>\n",
       "    .dataframe thead tr:only-child th {\n",
       "        text-align: right;\n",
       "    }\n",
       "\n",
       "    .dataframe thead th {\n",
       "        text-align: left;\n",
       "    }\n",
       "\n",
       "    .dataframe tbody tr th {\n",
       "        vertical-align: top;\n",
       "    }\n",
       "</style>\n",
       "<table border=\"1\" class=\"dataframe\">\n",
       "  <thead>\n",
       "    <tr style=\"text-align: right;\">\n",
       "      <th></th>\n",
       "      <th>Date</th>\n",
       "      <th>Revenue</th>\n",
       "      <th>Date2</th>\n",
       "      <th>diff</th>\n",
       "    </tr>\n",
       "  </thead>\n",
       "  <tbody>\n",
       "    <tr>\n",
       "      <th>0</th>\n",
       "      <td>Jan-09</td>\n",
       "      <td>943690</td>\n",
       "      <td>200901</td>\n",
       "      <td>NaN</td>\n",
       "    </tr>\n",
       "    <tr>\n",
       "      <th>1</th>\n",
       "      <td>Feb-09</td>\n",
       "      <td>1062565</td>\n",
       "      <td>200902</td>\n",
       "      <td>118875.0</td>\n",
       "    </tr>\n",
       "    <tr>\n",
       "      <th>2</th>\n",
       "      <td>Mar-09</td>\n",
       "      <td>210079</td>\n",
       "      <td>200903</td>\n",
       "      <td>-852486.0</td>\n",
       "    </tr>\n",
       "    <tr>\n",
       "      <th>3</th>\n",
       "      <td>Apr-09</td>\n",
       "      <td>-735286</td>\n",
       "      <td>200904</td>\n",
       "      <td>-945365.0</td>\n",
       "    </tr>\n",
       "    <tr>\n",
       "      <th>4</th>\n",
       "      <td>May-09</td>\n",
       "      <td>842933</td>\n",
       "      <td>200905</td>\n",
       "      <td>1578219.0</td>\n",
       "    </tr>\n",
       "  </tbody>\n",
       "</table>\n",
       "</div>"
      ],
      "text/plain": [
       "     Date  Revenue   Date2       diff\n",
       "0  Jan-09   943690  200901        NaN\n",
       "1  Feb-09  1062565  200902   118875.0\n",
       "2  Mar-09   210079  200903  -852486.0\n",
       "3  Apr-09  -735286  200904  -945365.0\n",
       "4  May-09   842933  200905  1578219.0"
      ]
     },
     "execution_count": 313,
     "metadata": {},
     "output_type": "execute_result"
    }
   ],
   "source": [
    "d2=pd.DataFrame(d)\n",
    "Data_org_final=pd.concat([Data_org2,d2],axis=1)\n",
    "Data_org_final.head()"
   ]
  },
  {
   "cell_type": "markdown",
   "metadata": {},
   "source": [
    "### Getting Final Summary"
   ]
  },
  {
   "cell_type": "code",
   "execution_count": 314,
   "metadata": {},
   "outputs": [],
   "source": [
    "Total_Month=Data_org_final['Date'].count()\n",
    "Total_Revenue=Data_org_final['Revenue'].sum()\n",
    "Average_Revenue_Change=Data_org_final['diff'].mean()\n",
    "Greatest_Increase=Data_org_final['diff'].max()\n",
    "Greatest_Decrease=Data_org_final['diff'].min()"
   ]
  },
  {
   "cell_type": "code",
   "execution_count": 316,
   "metadata": {
    "scrolled": true
   },
   "outputs": [
    {
     "data": {
      "text/html": [
       "<div>\n",
       "<style>\n",
       "    .dataframe thead tr:only-child th {\n",
       "        text-align: right;\n",
       "    }\n",
       "\n",
       "    .dataframe thead th {\n",
       "        text-align: left;\n",
       "    }\n",
       "\n",
       "    .dataframe tbody tr th {\n",
       "        vertical-align: top;\n",
       "    }\n",
       "</style>\n",
       "<table border=\"1\" class=\"dataframe\">\n",
       "  <thead>\n",
       "    <tr style=\"text-align: right;\">\n",
       "      <th></th>\n",
       "      <th>Analysis</th>\n",
       "    </tr>\n",
       "  </thead>\n",
       "  <tbody>\n",
       "    <tr>\n",
       "      <th>Average_Revenue_Change</th>\n",
       "      <td>4444.0</td>\n",
       "    </tr>\n",
       "    <tr>\n",
       "      <th>Greatest_Decrease</th>\n",
       "      <td>-2293129.0</td>\n",
       "    </tr>\n",
       "    <tr>\n",
       "      <th>Greatest_Increase</th>\n",
       "      <td>2214907.0</td>\n",
       "    </tr>\n",
       "    <tr>\n",
       "      <th>Total_Month</th>\n",
       "      <td>86.0</td>\n",
       "    </tr>\n",
       "    <tr>\n",
       "      <th>Total_Revenue</th>\n",
       "      <td>55945323.0</td>\n",
       "    </tr>\n",
       "  </tbody>\n",
       "</table>\n",
       "</div>"
      ],
      "text/plain": [
       "                          Analysis\n",
       "Average_Revenue_Change      4444.0\n",
       "Greatest_Decrease       -2293129.0\n",
       "Greatest_Increase        2214907.0\n",
       "Total_Month                   86.0\n",
       "Total_Revenue           55945323.0"
      ]
     },
     "execution_count": 316,
     "metadata": {},
     "output_type": "execute_result"
    }
   ],
   "source": [
    "Final_Analysis=pd.DataFrame({'Total_Month':[Total_Month],\n",
    "                             'Total_Revenue':[Total_Revenue],\n",
    "                             'Average_Revenue_Change':[Average_Revenue_Change],\n",
    "                             'Greatest_Increase':[Greatest_Increase],\n",
    "                             'Greatest_Decrease':[Greatest_Decrease]\n",
    "                             })\n",
    "Final_Analysis=Final_Analysis.transpose()\n",
    "Final_Analysis.columns=['Analysis']\n",
    "Final_Analysis=Final_Analysis.round({'Analysis': 0})\n",
    "Final_Analysis"
   ]
  }
 ],
 "metadata": {
  "kernelspec": {
   "display_name": "Python 3",
   "language": "python",
   "name": "python3"
  },
  "language_info": {
   "codemirror_mode": {
    "name": "ipython",
    "version": 3
   },
   "file_extension": ".py",
   "mimetype": "text/x-python",
   "name": "python",
   "nbconvert_exporter": "python",
   "pygments_lexer": "ipython3",
   "version": "3.6.1"
  }
 },
 "nbformat": 4,
 "nbformat_minor": 2
}
