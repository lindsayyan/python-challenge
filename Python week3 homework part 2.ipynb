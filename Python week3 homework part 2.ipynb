{
 "cells": [
  {
   "cell_type": "markdown",
   "metadata": {},
   "source": [
    "## Python Homework Pyboss\n",
    "### Loading Data in "
   ]
  },
  {
   "cell_type": "code",
   "execution_count": 252,
   "metadata": {},
   "outputs": [],
   "source": [
    "import pandas as pd \n",
    "employee1=pd.read_csv('employee_data1.csv',sep=',')\n",
    "employee2=pd.read_csv('employee_data2.csv',sep=',')"
   ]
  },
  {
   "cell_type": "code",
   "execution_count": 253,
   "metadata": {},
   "outputs": [],
   "source": [
    "employee=pd.concat([employee1,employee2])"
   ]
  },
  {
   "cell_type": "code",
   "execution_count": 254,
   "metadata": {
    "scrolled": false
   },
   "outputs": [
    {
     "data": {
      "text/html": [
       "<div>\n",
       "<style>\n",
       "    .dataframe thead tr:only-child th {\n",
       "        text-align: right;\n",
       "    }\n",
       "\n",
       "    .dataframe thead th {\n",
       "        text-align: left;\n",
       "    }\n",
       "\n",
       "    .dataframe tbody tr th {\n",
       "        vertical-align: top;\n",
       "    }\n",
       "</style>\n",
       "<table border=\"1\" class=\"dataframe\">\n",
       "  <thead>\n",
       "    <tr style=\"text-align: right;\">\n",
       "      <th></th>\n",
       "      <th>Emp ID</th>\n",
       "      <th>Name</th>\n",
       "      <th>DOB</th>\n",
       "      <th>SSN</th>\n",
       "      <th>State</th>\n",
       "    </tr>\n",
       "  </thead>\n",
       "  <tbody>\n",
       "    <tr>\n",
       "      <th>0</th>\n",
       "      <td>214</td>\n",
       "      <td>Sarah Simpson</td>\n",
       "      <td>1985-12-04</td>\n",
       "      <td>282-01-8166</td>\n",
       "      <td>Florida</td>\n",
       "    </tr>\n",
       "    <tr>\n",
       "      <th>1</th>\n",
       "      <td>15</td>\n",
       "      <td>Samantha Lara</td>\n",
       "      <td>1993-09-08</td>\n",
       "      <td>848-80-7526</td>\n",
       "      <td>Colorado</td>\n",
       "    </tr>\n",
       "    <tr>\n",
       "      <th>2</th>\n",
       "      <td>411</td>\n",
       "      <td>Stacy Charles</td>\n",
       "      <td>1957-12-20</td>\n",
       "      <td>658-75-8526</td>\n",
       "      <td>Pennsylvania</td>\n",
       "    </tr>\n",
       "    <tr>\n",
       "      <th>3</th>\n",
       "      <td>166</td>\n",
       "      <td>Michelle Roy</td>\n",
       "      <td>1978-07-29</td>\n",
       "      <td>794-25-3944</td>\n",
       "      <td>Michigan</td>\n",
       "    </tr>\n",
       "    <tr>\n",
       "      <th>4</th>\n",
       "      <td>39</td>\n",
       "      <td>Joseph Rogers</td>\n",
       "      <td>1985-03-28</td>\n",
       "      <td>525-40-3515</td>\n",
       "      <td>Minnesota</td>\n",
       "    </tr>\n",
       "  </tbody>\n",
       "</table>\n",
       "</div>"
      ],
      "text/plain": [
       "   Emp ID           Name         DOB          SSN         State\n",
       "0     214  Sarah Simpson  1985-12-04  282-01-8166       Florida\n",
       "1      15  Samantha Lara  1993-09-08  848-80-7526      Colorado\n",
       "2     411  Stacy Charles  1957-12-20  658-75-8526  Pennsylvania\n",
       "3     166   Michelle Roy  1978-07-29  794-25-3944      Michigan\n",
       "4      39  Joseph Rogers  1985-03-28  525-40-3515     Minnesota"
      ]
     },
     "execution_count": 254,
     "metadata": {},
     "output_type": "execute_result"
    }
   ],
   "source": [
    "employee.head()"
   ]
  },
  {
   "cell_type": "markdown",
   "metadata": {},
   "source": [
    "### Splitting Name column into First and Last name "
   ]
  },
  {
   "cell_type": "code",
   "execution_count": 255,
   "metadata": {},
   "outputs": [],
   "source": [
    "df = employee['Name'].apply(lambda x: pd.Series(x.split(' ')))"
   ]
  },
  {
   "cell_type": "code",
   "execution_count": 256,
   "metadata": {},
   "outputs": [
    {
     "data": {
      "text/html": [
       "<div>\n",
       "<style>\n",
       "    .dataframe thead tr:only-child th {\n",
       "        text-align: right;\n",
       "    }\n",
       "\n",
       "    .dataframe thead th {\n",
       "        text-align: left;\n",
       "    }\n",
       "\n",
       "    .dataframe tbody tr th {\n",
       "        vertical-align: top;\n",
       "    }\n",
       "</style>\n",
       "<table border=\"1\" class=\"dataframe\">\n",
       "  <thead>\n",
       "    <tr style=\"text-align: right;\">\n",
       "      <th></th>\n",
       "      <th>Emp ID</th>\n",
       "      <th>DOB</th>\n",
       "      <th>SSN</th>\n",
       "      <th>State</th>\n",
       "      <th>First Name</th>\n",
       "      <th>Last Name</th>\n",
       "    </tr>\n",
       "  </thead>\n",
       "  <tbody>\n",
       "    <tr>\n",
       "      <th>0</th>\n",
       "      <td>214</td>\n",
       "      <td>1985-12-04</td>\n",
       "      <td>282-01-8166</td>\n",
       "      <td>Florida</td>\n",
       "      <td>Sarah</td>\n",
       "      <td>Simpson</td>\n",
       "    </tr>\n",
       "    <tr>\n",
       "      <th>1</th>\n",
       "      <td>15</td>\n",
       "      <td>1993-09-08</td>\n",
       "      <td>848-80-7526</td>\n",
       "      <td>Colorado</td>\n",
       "      <td>Samantha</td>\n",
       "      <td>Lara</td>\n",
       "    </tr>\n",
       "    <tr>\n",
       "      <th>2</th>\n",
       "      <td>411</td>\n",
       "      <td>1957-12-20</td>\n",
       "      <td>658-75-8526</td>\n",
       "      <td>Pennsylvania</td>\n",
       "      <td>Stacy</td>\n",
       "      <td>Charles</td>\n",
       "    </tr>\n",
       "    <tr>\n",
       "      <th>3</th>\n",
       "      <td>166</td>\n",
       "      <td>1978-07-29</td>\n",
       "      <td>794-25-3944</td>\n",
       "      <td>Michigan</td>\n",
       "      <td>Michelle</td>\n",
       "      <td>Roy</td>\n",
       "    </tr>\n",
       "    <tr>\n",
       "      <th>4</th>\n",
       "      <td>39</td>\n",
       "      <td>1985-03-28</td>\n",
       "      <td>525-40-3515</td>\n",
       "      <td>Minnesota</td>\n",
       "      <td>Joseph</td>\n",
       "      <td>Rogers</td>\n",
       "    </tr>\n",
       "  </tbody>\n",
       "</table>\n",
       "</div>"
      ],
      "text/plain": [
       "   Emp ID         DOB          SSN         State First Name Last Name\n",
       "0     214  1985-12-04  282-01-8166       Florida      Sarah   Simpson\n",
       "1      15  1993-09-08  848-80-7526      Colorado   Samantha      Lara\n",
       "2     411  1957-12-20  658-75-8526  Pennsylvania      Stacy   Charles\n",
       "3     166  1978-07-29  794-25-3944      Michigan   Michelle       Roy\n",
       "4      39  1985-03-28  525-40-3515     Minnesota     Joseph    Rogers"
      ]
     },
     "execution_count": 256,
     "metadata": {},
     "output_type": "execute_result"
    }
   ],
   "source": [
    "df.columns=['First Name','Last Name']\n",
    "employee=pd.concat([employee,df],axis=1)\n",
    "del employee['Name']\n",
    "employee.head()"
   ]
  },
  {
   "cell_type": "markdown",
   "metadata": {},
   "source": [
    "### Reformatting DOB Column "
   ]
  },
  {
   "cell_type": "code",
   "execution_count": 257,
   "metadata": {},
   "outputs": [],
   "source": [
    "list_DOB=[]\n",
    "for x in employee['DOB']:\n",
    "    Day=x[-2:]\n",
    "    Month=x[-5:-3]\n",
    "    Year=x[0:4]\n",
    "    list_DOB.append(str(Day)+'/'+str(Month)+'/'+str(Year))"
   ]
  },
  {
   "cell_type": "code",
   "execution_count": 258,
   "metadata": {},
   "outputs": [
    {
     "data": {
      "text/html": [
       "<div>\n",
       "<style>\n",
       "    .dataframe thead tr:only-child th {\n",
       "        text-align: right;\n",
       "    }\n",
       "\n",
       "    .dataframe thead th {\n",
       "        text-align: left;\n",
       "    }\n",
       "\n",
       "    .dataframe tbody tr th {\n",
       "        vertical-align: top;\n",
       "    }\n",
       "</style>\n",
       "<table border=\"1\" class=\"dataframe\">\n",
       "  <thead>\n",
       "    <tr style=\"text-align: right;\">\n",
       "      <th></th>\n",
       "      <th>Emp ID</th>\n",
       "      <th>DOB</th>\n",
       "      <th>SSN</th>\n",
       "      <th>State</th>\n",
       "      <th>First Name</th>\n",
       "      <th>Last Name</th>\n",
       "    </tr>\n",
       "  </thead>\n",
       "  <tbody>\n",
       "    <tr>\n",
       "      <th>0</th>\n",
       "      <td>214</td>\n",
       "      <td>1985-12-04</td>\n",
       "      <td>282-01-8166</td>\n",
       "      <td>Florida</td>\n",
       "      <td>Sarah</td>\n",
       "      <td>Simpson</td>\n",
       "    </tr>\n",
       "    <tr>\n",
       "      <th>1</th>\n",
       "      <td>15</td>\n",
       "      <td>1993-09-08</td>\n",
       "      <td>848-80-7526</td>\n",
       "      <td>Colorado</td>\n",
       "      <td>Samantha</td>\n",
       "      <td>Lara</td>\n",
       "    </tr>\n",
       "    <tr>\n",
       "      <th>2</th>\n",
       "      <td>411</td>\n",
       "      <td>1957-12-20</td>\n",
       "      <td>658-75-8526</td>\n",
       "      <td>Pennsylvania</td>\n",
       "      <td>Stacy</td>\n",
       "      <td>Charles</td>\n",
       "    </tr>\n",
       "    <tr>\n",
       "      <th>3</th>\n",
       "      <td>166</td>\n",
       "      <td>1978-07-29</td>\n",
       "      <td>794-25-3944</td>\n",
       "      <td>Michigan</td>\n",
       "      <td>Michelle</td>\n",
       "      <td>Roy</td>\n",
       "    </tr>\n",
       "    <tr>\n",
       "      <th>4</th>\n",
       "      <td>39</td>\n",
       "      <td>1985-03-28</td>\n",
       "      <td>525-40-3515</td>\n",
       "      <td>Minnesota</td>\n",
       "      <td>Joseph</td>\n",
       "      <td>Rogers</td>\n",
       "    </tr>\n",
       "  </tbody>\n",
       "</table>\n",
       "</div>"
      ],
      "text/plain": [
       "   Emp ID         DOB          SSN         State First Name Last Name\n",
       "0     214  1985-12-04  282-01-8166       Florida      Sarah   Simpson\n",
       "1      15  1993-09-08  848-80-7526      Colorado   Samantha      Lara\n",
       "2     411  1957-12-20  658-75-8526  Pennsylvania      Stacy   Charles\n",
       "3     166  1978-07-29  794-25-3944      Michigan   Michelle       Roy\n",
       "4      39  1985-03-28  525-40-3515     Minnesota     Joseph    Rogers"
      ]
     },
     "execution_count": 258,
     "metadata": {},
     "output_type": "execute_result"
    }
   ],
   "source": [
    "list_DOB2=pd.DataFrame(list_DOB)\n",
    "employee2=pd.DataFrame(employee)\n",
    "employee2.head()"
   ]
  },
  {
   "cell_type": "code",
   "execution_count": 259,
   "metadata": {
    "collapsed": true
   },
   "outputs": [],
   "source": [
    "Employee2=employee2[['Emp ID','DOB','SSN','State','First Name','Last Name']]\n"
   ]
  },
  {
   "cell_type": "code",
   "execution_count": 260,
   "metadata": {
    "collapsed": true
   },
   "outputs": [],
   "source": [
    "Employee2=Employee2.reset_index()\n",
    "df2=pd.concat([Employee2,list_DOB2],axis=1)\n",
    "df2=df2.rename(columns={0:\"DOB2\"})"
   ]
  },
  {
   "cell_type": "code",
   "execution_count": 261,
   "metadata": {},
   "outputs": [
    {
     "data": {
      "text/html": [
       "<div>\n",
       "<style>\n",
       "    .dataframe thead tr:only-child th {\n",
       "        text-align: right;\n",
       "    }\n",
       "\n",
       "    .dataframe thead th {\n",
       "        text-align: left;\n",
       "    }\n",
       "\n",
       "    .dataframe tbody tr th {\n",
       "        vertical-align: top;\n",
       "    }\n",
       "</style>\n",
       "<table border=\"1\" class=\"dataframe\">\n",
       "  <thead>\n",
       "    <tr style=\"text-align: right;\">\n",
       "      <th></th>\n",
       "      <th>Emp ID</th>\n",
       "      <th>SSN</th>\n",
       "      <th>State</th>\n",
       "      <th>First Name</th>\n",
       "      <th>Last Name</th>\n",
       "      <th>DOB2</th>\n",
       "    </tr>\n",
       "  </thead>\n",
       "  <tbody>\n",
       "    <tr>\n",
       "      <th>0</th>\n",
       "      <td>214</td>\n",
       "      <td>282-01-8166</td>\n",
       "      <td>Florida</td>\n",
       "      <td>Sarah</td>\n",
       "      <td>Simpson</td>\n",
       "      <td>04/12/1985</td>\n",
       "    </tr>\n",
       "    <tr>\n",
       "      <th>1</th>\n",
       "      <td>15</td>\n",
       "      <td>848-80-7526</td>\n",
       "      <td>Colorado</td>\n",
       "      <td>Samantha</td>\n",
       "      <td>Lara</td>\n",
       "      <td>08/09/1993</td>\n",
       "    </tr>\n",
       "    <tr>\n",
       "      <th>2</th>\n",
       "      <td>411</td>\n",
       "      <td>658-75-8526</td>\n",
       "      <td>Pennsylvania</td>\n",
       "      <td>Stacy</td>\n",
       "      <td>Charles</td>\n",
       "      <td>20/12/1957</td>\n",
       "    </tr>\n",
       "    <tr>\n",
       "      <th>3</th>\n",
       "      <td>166</td>\n",
       "      <td>794-25-3944</td>\n",
       "      <td>Michigan</td>\n",
       "      <td>Michelle</td>\n",
       "      <td>Roy</td>\n",
       "      <td>29/07/1978</td>\n",
       "    </tr>\n",
       "    <tr>\n",
       "      <th>4</th>\n",
       "      <td>39</td>\n",
       "      <td>525-40-3515</td>\n",
       "      <td>Minnesota</td>\n",
       "      <td>Joseph</td>\n",
       "      <td>Rogers</td>\n",
       "      <td>28/03/1985</td>\n",
       "    </tr>\n",
       "  </tbody>\n",
       "</table>\n",
       "</div>"
      ],
      "text/plain": [
       "   Emp ID          SSN         State First Name Last Name        DOB2\n",
       "0     214  282-01-8166       Florida      Sarah   Simpson  04/12/1985\n",
       "1      15  848-80-7526      Colorado   Samantha      Lara  08/09/1993\n",
       "2     411  658-75-8526  Pennsylvania      Stacy   Charles  20/12/1957\n",
       "3     166  794-25-3944      Michigan   Michelle       Roy  29/07/1978\n",
       "4      39  525-40-3515     Minnesota     Joseph    Rogers  28/03/1985"
      ]
     },
     "execution_count": 261,
     "metadata": {},
     "output_type": "execute_result"
    }
   ],
   "source": [
    "del df2['index']\n",
    "del df2['DOB']\n",
    "df2.head()"
   ]
  },
  {
   "cell_type": "markdown",
   "metadata": {},
   "source": [
    "### Reformating SSN Column "
   ]
  },
  {
   "cell_type": "code",
   "execution_count": 262,
   "metadata": {},
   "outputs": [],
   "source": [
    "list_SSN=[]\n",
    "for x in df2['SSN']:\n",
    "    last4=x[-4:]\n",
    "    list_SSN.append('***-**-'+str(last4))"
   ]
  },
  {
   "cell_type": "code",
   "execution_count": 263,
   "metadata": {},
   "outputs": [],
   "source": [
    "list_SSN2=pd.DataFrame(list_SSN)"
   ]
  },
  {
   "cell_type": "code",
   "execution_count": 264,
   "metadata": {},
   "outputs": [],
   "source": [
    "df2=pd.concat([df2,list_SSN2],axis=1)"
   ]
  },
  {
   "cell_type": "code",
   "execution_count": 265,
   "metadata": {},
   "outputs": [
    {
     "data": {
      "text/html": [
       "<div>\n",
       "<style>\n",
       "    .dataframe thead tr:only-child th {\n",
       "        text-align: right;\n",
       "    }\n",
       "\n",
       "    .dataframe thead th {\n",
       "        text-align: left;\n",
       "    }\n",
       "\n",
       "    .dataframe tbody tr th {\n",
       "        vertical-align: top;\n",
       "    }\n",
       "</style>\n",
       "<table border=\"1\" class=\"dataframe\">\n",
       "  <thead>\n",
       "    <tr style=\"text-align: right;\">\n",
       "      <th></th>\n",
       "      <th>Emp ID</th>\n",
       "      <th>State</th>\n",
       "      <th>First Name</th>\n",
       "      <th>Last Name</th>\n",
       "      <th>DOB2</th>\n",
       "      <th>SSN2</th>\n",
       "    </tr>\n",
       "  </thead>\n",
       "  <tbody>\n",
       "    <tr>\n",
       "      <th>0</th>\n",
       "      <td>214</td>\n",
       "      <td>Florida</td>\n",
       "      <td>Sarah</td>\n",
       "      <td>Simpson</td>\n",
       "      <td>04/12/1985</td>\n",
       "      <td>***-**-8166</td>\n",
       "    </tr>\n",
       "    <tr>\n",
       "      <th>1</th>\n",
       "      <td>15</td>\n",
       "      <td>Colorado</td>\n",
       "      <td>Samantha</td>\n",
       "      <td>Lara</td>\n",
       "      <td>08/09/1993</td>\n",
       "      <td>***-**-7526</td>\n",
       "    </tr>\n",
       "    <tr>\n",
       "      <th>2</th>\n",
       "      <td>411</td>\n",
       "      <td>Pennsylvania</td>\n",
       "      <td>Stacy</td>\n",
       "      <td>Charles</td>\n",
       "      <td>20/12/1957</td>\n",
       "      <td>***-**-8526</td>\n",
       "    </tr>\n",
       "    <tr>\n",
       "      <th>3</th>\n",
       "      <td>166</td>\n",
       "      <td>Michigan</td>\n",
       "      <td>Michelle</td>\n",
       "      <td>Roy</td>\n",
       "      <td>29/07/1978</td>\n",
       "      <td>***-**-3944</td>\n",
       "    </tr>\n",
       "    <tr>\n",
       "      <th>4</th>\n",
       "      <td>39</td>\n",
       "      <td>Minnesota</td>\n",
       "      <td>Joseph</td>\n",
       "      <td>Rogers</td>\n",
       "      <td>28/03/1985</td>\n",
       "      <td>***-**-3515</td>\n",
       "    </tr>\n",
       "  </tbody>\n",
       "</table>\n",
       "</div>"
      ],
      "text/plain": [
       "   Emp ID         State First Name Last Name        DOB2         SSN2\n",
       "0     214       Florida      Sarah   Simpson  04/12/1985  ***-**-8166\n",
       "1      15      Colorado   Samantha      Lara  08/09/1993  ***-**-7526\n",
       "2     411  Pennsylvania      Stacy   Charles  20/12/1957  ***-**-8526\n",
       "3     166      Michigan   Michelle       Roy  29/07/1978  ***-**-3944\n",
       "4      39     Minnesota     Joseph    Rogers  28/03/1985  ***-**-3515"
      ]
     },
     "execution_count": 265,
     "metadata": {},
     "output_type": "execute_result"
    }
   ],
   "source": [
    "df2=df2.rename(columns={0:\"SSN2\"})\n",
    "del df2['SSN']\n",
    "df2.head()"
   ]
  },
  {
   "cell_type": "markdown",
   "metadata": {},
   "source": [
    "### Reformatting State Column "
   ]
  },
  {
   "cell_type": "code",
   "execution_count": 266,
   "metadata": {},
   "outputs": [],
   "source": [
    "us_state_abbrev = {\n",
    "    'Alabama': 'AL',\n",
    "    'Alaska': 'AK',\n",
    "    'Arizona': 'AZ',\n",
    "    'Arkansas': 'AR',\n",
    "    'California': 'CA',\n",
    "    'Colorado': 'CO',\n",
    "    'Connecticut': 'CT',\n",
    "    'Delaware': 'DE',\n",
    "    'Florida': 'FL',\n",
    "    'Georgia': 'GA',\n",
    "    'Hawaii': 'HI',\n",
    "    'Idaho': 'ID',\n",
    "    'Illinois': 'IL',\n",
    "    'Indiana': 'IN',\n",
    "    'Iowa': 'IA',\n",
    "    'Kansas': 'KS',\n",
    "    'Kentucky': 'KY',\n",
    "    'Louisiana': 'LA',\n",
    "    'Maine': 'ME',\n",
    "    'Maryland': 'MD',\n",
    "    'Massachusetts': 'MA',\n",
    "    'Michigan': 'MI',\n",
    "    'Minnesota': 'MN',\n",
    "    'Mississippi': 'MS',\n",
    "    'Missouri': 'MO',\n",
    "    'Montana': 'MT',\n",
    "    'Nebraska': 'NE',\n",
    "    'Nevada': 'NV',\n",
    "    'New Hampshire': 'NH',\n",
    "    'New Jersey': 'NJ',\n",
    "    'New Mexico': 'NM',\n",
    "    'New York': 'NY',\n",
    "    'North Carolina': 'NC',\n",
    "    'North Dakota': 'ND',\n",
    "    'Ohio': 'OH',\n",
    "    'Oklahoma': 'OK',\n",
    "    'Oregon': 'OR',\n",
    "    'Pennsylvania': 'PA',\n",
    "    'Rhode Island': 'RI',\n",
    "    'South Carolina': 'SC',\n",
    "    'South Dakota': 'SD',\n",
    "    'Tennessee': 'TN',\n",
    "    'Texas': 'TX',\n",
    "    'Utah': 'UT',\n",
    "    'Vermont': 'VT',\n",
    "    'Virginia': 'VA',\n",
    "    'Washington': 'WA',\n",
    "    'West Virginia': 'WV',\n",
    "    'Wisconsin': 'WI',\n",
    "    'Wyoming': 'WY',\n",
    "}"
   ]
  },
  {
   "cell_type": "code",
   "execution_count": 267,
   "metadata": {
    "scrolled": true
   },
   "outputs": [],
   "source": [
    "list_state=[]\n",
    "for x in df2['State']:\n",
    "    abb=us_state_abbrev[x]\n",
    "    list_state.append(abb)"
   ]
  },
  {
   "cell_type": "code",
   "execution_count": 268,
   "metadata": {},
   "outputs": [],
   "source": [
    "list_state2=pd.DataFrame(list_state)"
   ]
  },
  {
   "cell_type": "code",
   "execution_count": 269,
   "metadata": {
    "collapsed": true
   },
   "outputs": [],
   "source": [
    "df2=pd.concat([df2,list_state2],axis=1)"
   ]
  },
  {
   "cell_type": "code",
   "execution_count": 270,
   "metadata": {},
   "outputs": [
    {
     "data": {
      "text/html": [
       "<div>\n",
       "<style>\n",
       "    .dataframe thead tr:only-child th {\n",
       "        text-align: right;\n",
       "    }\n",
       "\n",
       "    .dataframe thead th {\n",
       "        text-align: left;\n",
       "    }\n",
       "\n",
       "    .dataframe tbody tr th {\n",
       "        vertical-align: top;\n",
       "    }\n",
       "</style>\n",
       "<table border=\"1\" class=\"dataframe\">\n",
       "  <thead>\n",
       "    <tr style=\"text-align: right;\">\n",
       "      <th></th>\n",
       "      <th>Emp ID</th>\n",
       "      <th>First Name</th>\n",
       "      <th>Last Name</th>\n",
       "      <th>DOB2</th>\n",
       "      <th>SSN2</th>\n",
       "      <th>State2</th>\n",
       "    </tr>\n",
       "  </thead>\n",
       "  <tbody>\n",
       "    <tr>\n",
       "      <th>0</th>\n",
       "      <td>214</td>\n",
       "      <td>Sarah</td>\n",
       "      <td>Simpson</td>\n",
       "      <td>04/12/1985</td>\n",
       "      <td>***-**-8166</td>\n",
       "      <td>FL</td>\n",
       "    </tr>\n",
       "    <tr>\n",
       "      <th>1</th>\n",
       "      <td>15</td>\n",
       "      <td>Samantha</td>\n",
       "      <td>Lara</td>\n",
       "      <td>08/09/1993</td>\n",
       "      <td>***-**-7526</td>\n",
       "      <td>CO</td>\n",
       "    </tr>\n",
       "    <tr>\n",
       "      <th>2</th>\n",
       "      <td>411</td>\n",
       "      <td>Stacy</td>\n",
       "      <td>Charles</td>\n",
       "      <td>20/12/1957</td>\n",
       "      <td>***-**-8526</td>\n",
       "      <td>PA</td>\n",
       "    </tr>\n",
       "    <tr>\n",
       "      <th>3</th>\n",
       "      <td>166</td>\n",
       "      <td>Michelle</td>\n",
       "      <td>Roy</td>\n",
       "      <td>29/07/1978</td>\n",
       "      <td>***-**-3944</td>\n",
       "      <td>MI</td>\n",
       "    </tr>\n",
       "    <tr>\n",
       "      <th>4</th>\n",
       "      <td>39</td>\n",
       "      <td>Joseph</td>\n",
       "      <td>Rogers</td>\n",
       "      <td>28/03/1985</td>\n",
       "      <td>***-**-3515</td>\n",
       "      <td>MN</td>\n",
       "    </tr>\n",
       "  </tbody>\n",
       "</table>\n",
       "</div>"
      ],
      "text/plain": [
       "   Emp ID First Name Last Name        DOB2         SSN2 State2\n",
       "0     214      Sarah   Simpson  04/12/1985  ***-**-8166     FL\n",
       "1      15   Samantha      Lara  08/09/1993  ***-**-7526     CO\n",
       "2     411      Stacy   Charles  20/12/1957  ***-**-8526     PA\n",
       "3     166   Michelle       Roy  29/07/1978  ***-**-3944     MI\n",
       "4      39     Joseph    Rogers  28/03/1985  ***-**-3515     MN"
      ]
     },
     "execution_count": 270,
     "metadata": {},
     "output_type": "execute_result"
    }
   ],
   "source": [
    "df2=df2.rename(columns={0:\"State2\"})\n",
    "del df2['State']\n",
    "df2.head()"
   ]
  }
 ],
 "metadata": {
  "kernelspec": {
   "display_name": "Python 3",
   "language": "python",
   "name": "python3"
  },
  "language_info": {
   "codemirror_mode": {
    "name": "ipython",
    "version": 3
   },
   "file_extension": ".py",
   "mimetype": "text/x-python",
   "name": "python",
   "nbconvert_exporter": "python",
   "pygments_lexer": "ipython3",
   "version": "3.6.1"
  }
 },
 "nbformat": 4,
 "nbformat_minor": 2
}
